{
 "cells": [
  {
   "cell_type": "markdown",
   "metadata": {},
   "source": [
    "# Evaluating the Result of Sequential Forward Selection\n",
    "\n",
    "Questions 1: \n",
    "\n",
    "Use the .subsets_ attribute of sfs to print a tuple that contains the names of the features chosen in the previous exercise (remember that we chose three features)."
   ]
  },
  {
   "cell_type": "code",
   "execution_count": null,
   "metadata": {},
   "outputs": [],
   "source": [
    "import pandas as pd\n",
    "import codecademylib3\n",
    "from sklearn.linear_model import LogisticRegression\n",
    "from mlxtend.feature_selection import SequentialFeatureSelector as SFS\n",
    "from mlxtend.plotting import plot_sequential_feature_selection as plot_sfs\n",
    "import matplotlib.pyplot as plt\n",
    "\n",
    "# Load the data\n",
    "health = pd.read_csv(\"dataR2.csv\")\n",
    "X = health.iloc[:,:-1]\n",
    "y = health.iloc[:,-1]\n",
    "\n",
    "# Logistic regression model\n",
    "lr = LogisticRegression(max_iter=1000)\n",
    "\n",
    "# Sequential forward selection\n",
    "sfs = SFS(lr,\n",
    "          k_features=3,\n",
    "          forward=True,\n",
    "          floating=False,\n",
    "          scoring='accuracy',\n",
    "          cv=0)\n",
    "sfs.fit(X, y)\n",
    "\n",
    "# Queation 1 Solution: Print the chosen feature names (selected 3 features)\n",
    "print(sfs.subsets_[3]['feature_names'])"
   ]
  },
  {
   "cell_type": "markdown",
   "metadata": {},
   "source": [
    "Output: ('Age', 'Glucose', 'Insulin')\n"
   ]
  },
  {
   "cell_type": "markdown",
   "metadata": {},
   "source": [
    "Questions 2.\n",
    "\n",
    "Use the .subsets_ attribute of sfs to print the accuracy of the model with three features after doing sequential forward selection.\n",
    "\n",
    "Recall that the original model was about 80% accurate when it used all nine features. How does the accuracy of the model with only three features compare?"
   ]
  },
  {
   "cell_type": "code",
   "execution_count": null,
   "metadata": {},
   "outputs": [],
   "source": [
    "import pandas as pd\n",
    "import codecademylib3\n",
    "from sklearn.linear_model import LogisticRegression\n",
    "from mlxtend.feature_selection import SequentialFeatureSelector as SFS\n",
    "from mlxtend.plotting import plot_sequential_feature_selection as plot_sfs\n",
    "import matplotlib.pyplot as plt\n",
    "\n",
    "# Load the data\n",
    "health = pd.read_csv(\"dataR2.csv\")\n",
    "X = health.iloc[:,:-1]\n",
    "y = health.iloc[:,-1]\n",
    "\n",
    "# Logistic regression model\n",
    "lr = LogisticRegression(max_iter=1000)\n",
    "\n",
    "# Sequential forward selection\n",
    "sfs = SFS(lr,\n",
    "          k_features=3,\n",
    "          forward=True,\n",
    "          floating=False,\n",
    "          scoring='accuracy',\n",
    "          cv=0)\n",
    "sfs.fit(X, y)\n",
    "\n",
    "# Print the chosen feature names\n",
    "print(sfs.subsets_[3]['feature_names'])\n",
    "\n",
    "# Question 2 Solution: Print the accuracy of the model after sequential forward selection\n",
    "print(sfs.subsets_[3]['avg_score'])"
   ]
  }
 ],
 "metadata": {
  "kernelspec": {
   "display_name": "Python 3",
   "language": "python",
   "name": "python3"
  },
  "language_info": {
   "name": "python",
   "version": "3.11.4"
  }
 },
 "nbformat": 4,
 "nbformat_minor": 2
}
